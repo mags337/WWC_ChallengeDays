{
 "cells": [
  {
   "cell_type": "code",
   "execution_count": null,
   "metadata": {},
   "outputs": [],
   "source": []
  },
  {
   "cell_type": "markdown",
   "metadata": {},
   "source": [
    "**The Book:** https://github.com/fastai/fastbook/blob/master/01_intro.ipynb"
   ]
  },
  {
   "cell_type": "markdown",
   "metadata": {},
   "source": [
    "Welcome to the 1st week of the Machine Learning Study Group !\n",
    "This week we are diving into the exciting realm of Introduction to Deep Learning. We’ll be using resources from fast AI, and you can find everything you need at the following link:  https://course.fast.ai/.\n",
    "\n",
    "\n",
    "For our weekly challenge, follow these steps:\n",
    "1.  Go to Lesson one - https://course.fast.ai/\n",
    "2.  Watch the lecture on Youtube \n",
    "3. Follow along and practice on Kaggle - Is it a bird? Creating a model \n",
    "from your own data | Kaggle \n",
    "4. Read the first chapter of Deep Learning for Coders with Fastai and PyTorch: AI Applications Without a PhD on 01_intro.ipynb - Colaboratory\n",
    "5. Answer the questions at the end of the notebook :thinking_face:\n",
    "\n",
    "\n",
    "Extra Challenge! \n",
    "WWWCode Days of code challenge:\n",
    "- On Kaggle Create your own image classifier using your own image searches \n",
    "- Share your result on #deeplearning and your social media and tag WWCode and WWCode Emerging tech!\n",
    "\n",
    "\n",
    "Additional resources are available too:\n",
    "- If you have questions or want to discuss tasks, join our \"Office Hours\" at 11 AM CET every Saturday. We will share with you how to join shortly!\n",
    "Happy learning, and let’s code together!"
   ]
  },
  {
   "cell_type": "markdown",
   "metadata": {},
   "source": []
  }
 ],
 "metadata": {
  "language_info": {
   "name": "python"
  }
 },
 "nbformat": 4,
 "nbformat_minor": 2
}
