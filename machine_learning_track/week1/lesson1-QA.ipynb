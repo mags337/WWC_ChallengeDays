{
 "cells": [
  {
   "cell_type": "code",
   "execution_count": null,
   "metadata": {},
   "outputs": [],
   "source": []
  },
  {
   "cell_type": "markdown",
   "metadata": {},
   "source": [
    "\n",
    "\n",
    "**1. Do you need these for deep learning?**\n",
    "Lots of math T / F\n",
    "Lots of data T / F\n",
    "Lots of expensive computers T / F\n",
    "A PhD T / F\n",
    "\n",
    "**2.  Name five areas where deep learning is now the best in the world.**\n",
    "- Natural language processing (NLP):: Answering questions; speech recognition; summarizing documents; classifying documents; finding names, dates, etc. in documents; searching for articles mentioning a concept\n",
    "- Computer vision:: Satellite and drone imagery interpretation (e.g., for disaster resilience); face recognition; image captioning; reading traffic signs; locating pedestrians and vehicles in autonomous vehicles\n",
    "- Medicine:: Finding anomalies in radiology images, including CT, MRI, and X-ray images; counting features in pathology slides; measuring features in ultrasounds; diagnosing diabetic retinopathy\n",
    "- Biology:: Folding proteins; classifying proteins; many genomics tasks, such as tumor-normal sequencing and classifying clinically actionable genetic mutations; cell classification; analyzing protein/protein interactions\n",
    "...\n",
    "\n",
    "- Image generation:: Colorizing images; increasing image resolution; removing noise from images; converting images to art in the style of famous artists\n",
    "Recommendation systems:: Web search; product recommendations; home page layout\n",
    "- Playing games:: Chess, Go, most Atari video games, and many real-time strategy games\n",
    "- Robotics:: Handling objects that are challenging to locate (e.g., transparent, shiny, lacking texture) or hard to pick up\n",
    "- Other applications:: Financial and logistical forecasting, text to speech, and much more...\n",
    "\n",
    "\n",
    "**3. What was the name of the first device that was based on the principle of the artificial neuron?**\n",
    "- Perceptron\n",
    "\n",
    "**4. Based on the book of the same name, what are the requirements for parallel distributed processing (PDP)?**\n",
    "\n",
    "- A set of processing units\n",
    "- A state of activation\n",
    "- An output function for each unit\n",
    "- A pattern of connectivity among units\n",
    "- A propagation rule for propagating patterns of activities through the network of connectivities\n",
    "- An activation rule for combining the inputs impinging on a unit with the current state of that unit to produce an output for the unit\n",
    "- A learning rule whereby patterns of connectivity are modified by experience\n",
    "- An environment within which the system must operate\n",
    "\n",
    "\n",
    "**5. What were the two theoretical misunderstandings that held back the field of neural networks?**\n",
    "1. They showed that a single layer of these devices was unable to learn some simple but critical mathematical functions (such as XOR). In the same book, they also showed that using multiple layers of the devices would allow these limitations to be addressed. Unfortunately, only the first of these insights was widely recognized. --> Didnt use more than one layer\n",
    "2. In theory, adding just one extra layer of neurons was enough to allow any mathematical function to be approximated with these neural networks, but in practice such networks were often too big and too slow to be useful. --> Should have used more that two layers. Also coupled with improvements in computer hardware later made it possible\n",
    "\n",
    "**6. What is a GPU?**\n",
    "- graphics processing unit, or GPU, is designed for parallel processing. \n",
    "- It is used in a wide range of applications, including graphics and video rendering, it is becoming more popular for use in creative production and artificial intelligence (AI).\n",
    "- raphics Processing Unit (GPU): Also known as a graphics card. A special kind of processor in your computer that can handle thousands of single tasks at the same time, especially designed for displaying 3D environments on a computer for playing games. These same basic tasks are very similar to what neural networks do, such that GPUs can run neural networks hundreds of times faster than regular CPUs. All modern computers contain a GPU, but few contain the right kind of GPU necessary for deep learning.\n",
    "\n",
    "\n",
    "**Open a notebook and execute a cell containing: 1+1. What happens?**\n",
    "- output is 2\n",
    "\n",
    "Follow through each cell of the stripped version of the notebook for this chapter. Before executing each cell, guess what will happen.\n",
    "\n",
    "Complete the Jupyter Notebook online appendix.\n",
    "\n",
    "Why is it hard to use a traditional computer program to recognize images in a photo?\n",
    "\n",
    "What did Samuel mean by \"weight assignment\"?\n",
    "\n",
    "What term do we normally use in deep learning for what Samuel called \"weights\"?\n",
    "\n",
    "Draw a picture that summarizes Samuel's view of a machine learning model.\n",
    "\n",
    "Why is it hard to understand why a deep learning model makes a particular prediction?\n",
    "\n",
    "What is the name of the theorem that shows that a neural network can solve any mathematical problem to any level of accuracy?\n",
    "\n",
    "What do you need in order to train a model?\n",
    "\n",
    "How could a feedback loop impact the rollout of a predictive policing model?\n",
    "\n",
    "Do we always have to use 224×224-pixel images with the cat recognition model?\n",
    "\n",
    "What is the difference between classification and regression?\n",
    "\n",
    "What is a validation set? What is a test set? Why do we need them?\n",
    "\n",
    "What will fastai do if you don't provide a validation set?\n",
    "\n",
    "Can we always use a random sample for a validation set? Why or why not?\n",
    "\n",
    "What is overfitting? Provide an example.\n",
    "\n",
    "What is a metric? How does it differ from \"loss\"?\n",
    "\n",
    "How can pretrained models help?\n",
    "\n",
    "What is the \"head\" of a model?\n",
    "\n",
    "What kinds of features do the early layers of a CNN find? How about the later layers?\n",
    "\n",
    "Are image models only useful for photos?\n",
    "\n",
    "What is an \"architecture\"?\n",
    "\n",
    "What is segmentation?\n",
    "\n",
    "What is y_range used for? When do we need it?\n",
    "\n",
    "What are \"hyperparameters\"?\n",
    "\n",
    "What's the best way to avoid failures when using AI in an organization?\n",
    "\n"
   ]
  },
  {
   "cell_type": "markdown",
   "metadata": {},
   "source": []
  },
  {
   "cell_type": "code",
   "execution_count": 1,
   "metadata": {},
   "outputs": [
    {
     "data": {
      "text/plain": [
       "2"
      ]
     },
     "execution_count": 1,
     "metadata": {},
     "output_type": "execute_result"
    }
   ],
   "source": [
    "1+1"
   ]
  },
  {
   "cell_type": "markdown",
   "metadata": {},
   "source": []
  }
 ],
 "metadata": {
  "kernelspec": {
   "display_name": "your_project_name",
   "language": "python",
   "name": "python3"
  },
  "language_info": {
   "codemirror_mode": {
    "name": "ipython",
    "version": 3
   },
   "file_extension": ".py",
   "mimetype": "text/x-python",
   "name": "python",
   "nbconvert_exporter": "python",
   "pygments_lexer": "ipython3",
   "version": "3.6.13"
  }
 },
 "nbformat": 4,
 "nbformat_minor": 2
}
