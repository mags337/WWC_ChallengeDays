{
 "cells": [
  {
   "cell_type": "code",
   "execution_count": 13,
   "metadata": {},
   "outputs": [
    {
     "name": "stdout",
     "output_type": "stream",
     "text": [
      "1991 NOT a leap year!\n",
      "1993 NOT a leap year!\n",
      "1989 NOT a leap year!\n",
      "2020 LEAP YEAR!\n",
      "2011 NOT a leap year!\n",
      "2024 LEAP YEAR!\n",
      "1992 LEAP YEAR!\n"
     ]
    }
   ],
   "source": [
    "'Create a program that checks if a year is a leap year.'\n",
    "'''\n",
    "Leap years occur mostly every 4 years, \n",
    "but every 100 years we skip a leap year\n",
    "unless the year is devisable by 400\n",
    "'''\n",
    "\n",
    "years = [1991, 1993, 1989, 2020, 2011, 2024, 1992]\n",
    "\n",
    "for year in years:\n",
    "    if year%400 == 0:\n",
    "        # Don't skip leap year even though it is devisable by 100, because it's devisable by 400\n",
    "        print(year,\"LEAP YEAR!\")\n",
    "    else:\n",
    "        if year %100 == 0:\n",
    "            # Skip leap year even though divisible by 100\n",
    "            print(year,\"NOT a leap year!\")\n",
    "        else: \n",
    "            if year %4 == 0:\n",
    "                print(year, \"LEAP YEAR!\")\n",
    "            else:\n",
    "                print(year,\"NOT a leap year!\")"
   ]
  },
  {
   "cell_type": "code",
   "execution_count": null,
   "metadata": {},
   "outputs": [],
   "source": [
    "for year in years:\n",
    "    if year % 400 == 0 or (year % 4 == 0 and year % 100 != 0):\n",
    "        print(year, \"LEAP YEAR!\")\n",
    "    else:\n",
    "        print(year, \"NOT a leap year!\")"
   ]
  },
  {
   "cell_type": "code",
   "execution_count": 5,
   "metadata": {},
   "outputs": [
    {
     "data": {
      "text/plain": [
       "{'How',\n",
       " 'about',\n",
       " 'and',\n",
       " 'come',\n",
       " 'does',\n",
       " 'how',\n",
       " 'in',\n",
       " 'often',\n",
       " 'sentence',\n",
       " 'that?',\n",
       " 'this',\n",
       " 'up',\n",
       " 'word'}"
      ]
     },
     "execution_count": 5,
     "metadata": {},
     "output_type": "execute_result"
    }
   ],
   "source": [
    "sen = \"How often does this word come up in this sentence and how about this and that?\"\n",
    "\n",
    "set(sen.split())"
   ]
  },
  {
   "cell_type": "code",
   "execution_count": 7,
   "metadata": {},
   "outputs": [
    {
     "data": {
      "text/plain": [
       "'How often does this word come up in this sentence and how about this and that '"
      ]
     },
     "execution_count": 7,
     "metadata": {},
     "output_type": "execute_result"
    }
   ],
   "source": [
    "import re\n",
    "re.sub(r'\\W+', ' ', sen)"
   ]
  }
 ],
 "metadata": {
  "kernelspec": {
   "display_name": "your_project_name",
   "language": "python",
   "name": "python3"
  },
  "language_info": {
   "codemirror_mode": {
    "name": "ipython",
    "version": 3
   },
   "file_extension": ".py",
   "mimetype": "text/x-python",
   "name": "python",
   "nbconvert_exporter": "python",
   "pygments_lexer": "ipython3",
   "version": "3.6.13"
  }
 },
 "nbformat": 4,
 "nbformat_minor": 2
}
