{
 "cells": [
  {
   "cell_type": "code",
   "execution_count": 13,
   "metadata": {},
   "outputs": [
    {
     "name": "stdout",
     "output_type": "stream",
     "text": [
      "1991 NOT a leap year!\n",
      "1993 NOT a leap year!\n",
      "1989 NOT a leap year!\n",
      "2020 LEAP YEAR!\n",
      "2011 NOT a leap year!\n",
      "2024 LEAP YEAR!\n",
      "1992 LEAP YEAR!\n"
     ]
    }
   ],
   "source": [
    "'Create a program that checks if a year is a leap year.'\n",
    "'''\n",
    "Leap years occur mostly every 4 years, \n",
    "but every 100 years we skip a leap year\n",
    "unless the year is devisable by 400\n",
    "'''\n",
    "\n",
    "years = [1991, 1993, 1989, 2020, 2011, 2024, 1992]\n",
    "\n",
    "for year in years:\n",
    "    if year%400 == 0:\n",
    "        # Don't skip leap year even though it is devisable by 100, because it's devisable by 400\n",
    "        print(year,\"LEAP YEAR!\")\n",
    "    else:\n",
    "        if year %100 == 0:\n",
    "            # Skip leap year even though divisible by 100\n",
    "            print(year,\"NOT a leap year!\")\n",
    "        else: \n",
    "            if year %4 == 0:\n",
    "                print(year, \"LEAP YEAR!\")\n",
    "            else:\n",
    "                print(year,\"NOT a leap year!\")"
   ]
  },
  {
   "cell_type": "code",
   "execution_count": null,
   "metadata": {},
   "outputs": [],
   "source": [
    "for year in years:\n",
    "    if year % 400 == 0 or (year % 4 == 0 and year % 100 != 0):\n",
    "        print(year, \"LEAP YEAR!\")\n",
    "    else:\n",
    "        print(year, \"NOT a leap year!\")"
   ]
  },
  {
   "cell_type": "code",
   "execution_count": 108,
   "metadata": {},
   "outputs": [
    {
     "data": {
      "text/plain": [
       "{'how': 2,\n",
       " 'often': 1,\n",
       " 'does': 1,\n",
       " 'this': 3,\n",
       " 'word': 1,\n",
       " 'come': 1,\n",
       " 'up': 1,\n",
       " 'in': 1,\n",
       " 'sentence': 1,\n",
       " 'and': 2,\n",
       " 'about': 1,\n",
       " 'that': 1,\n",
       " '': 1}"
      ]
     },
     "execution_count": 108,
     "metadata": {},
     "output_type": "execute_result"
    }
   ],
   "source": []
  },
  {
   "cell_type": "code",
   "execution_count": 110,
   "metadata": {},
   "outputs": [
    {
     "data": {
      "text/plain": [
       "Counter({'how': 2,\n",
       "         'often': 1,\n",
       "         'does': 1,\n",
       "         'this': 3,\n",
       "         'word': 1,\n",
       "         'come': 1,\n",
       "         'up': 1,\n",
       "         'in': 1,\n",
       "         'sentence': 1,\n",
       "         'and': 2,\n",
       "         'about': 1,\n",
       "         'that': 1})"
      ]
     },
     "execution_count": 110,
     "metadata": {},
     "output_type": "execute_result"
    }
   ],
   "source": [
    "import re\n",
    "from collections import Counter\n",
    "\n",
    "sen = \"How often does this word come up in this sentence and how about this and that?\"\n",
    "\n",
    "words = re.findall(r'\\b\\w+\\b', sen.lower())\n",
    "word_dict = Counter(words)\n",
    "\n",
    "word_dict"
   ]
  },
  {
   "cell_type": "code",
   "execution_count": 111,
   "metadata": {},
   "outputs": [],
   "source": [
    "sen = \"How often does this word come up in this sentence and how about this and that?\""
   ]
  },
  {
   "cell_type": "code",
   "execution_count": 132,
   "metadata": {},
   "outputs": [
    {
     "name": "stdout",
     "output_type": "stream",
     "text": [
      "How Often Does This Word Come Up In This Sentence And How About This And That\n"
     ]
    }
   ],
   "source": [
    "sen = \"How often does this word come up in this sentence and how about this and that?\"\n",
    "capital_words = [word.capitalize() for word in re.findall(r'\\b\\w+\\b', sen.lower())]\n",
    "new_sen = \" \".join(capital_words)\n",
    "print(new_sen)"
   ]
  }
 ],
 "metadata": {
  "kernelspec": {
   "display_name": "your_project_name",
   "language": "python",
   "name": "python3"
  },
  "language_info": {
   "codemirror_mode": {
    "name": "ipython",
    "version": 3
   },
   "file_extension": ".py",
   "mimetype": "text/x-python",
   "name": "python",
   "nbconvert_exporter": "python",
   "pygments_lexer": "ipython3",
   "version": "3.6.13"
  }
 },
 "nbformat": 4,
 "nbformat_minor": 2
}
