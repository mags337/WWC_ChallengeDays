{
 "cells": [
  {
   "cell_type": "code",
   "execution_count": 1,
   "metadata": {},
   "outputs": [
    {
     "data": {
      "text/plain": [
       "'Write a program to check if a number is positive, negative, or zero.'"
      ]
     },
     "execution_count": 1,
     "metadata": {},
     "output_type": "execute_result"
    }
   ],
   "source": [
    "'Write a program to check if a number is positive, negative, or zero.'"
   ]
  },
  {
   "cell_type": "code",
   "execution_count": 9,
   "metadata": {},
   "outputs": [],
   "source": [
    "test = [5,-3,0,5]"
   ]
  },
  {
   "cell_type": "code",
   "execution_count": 12,
   "metadata": {},
   "outputs": [
    {
     "name": "stdout",
     "output_type": "stream",
     "text": [
      "5 positive\n",
      "-3 negative\n",
      "0 null\n",
      "5 positive\n"
     ]
    }
   ],
   "source": [
    "for num in test:\n",
    "    if num > 0:\n",
    "        print(num,\"positive\")\n",
    "    elif num <0:\n",
    "        print(num,\"negative\")\n",
    "    elif num == 0:\n",
    "        print(num,\"null\")"
   ]
  },
  {
   "cell_type": "code",
   "execution_count": 19,
   "metadata": {},
   "outputs": [
    {
     "data": {
      "text/plain": [
       "['5 is positive', '-3 is negative', '0 is null', '5 is positive']"
      ]
     },
     "execution_count": 19,
     "metadata": {},
     "output_type": "execute_result"
    }
   ],
   "source": [
    "result = [f\"{num} {'is positive' if num > 0 else 'is negative' if num < 0 else 'is null'}\" for num in test]\n",
    "result"
   ]
  },
  {
   "cell_type": "code",
   "execution_count": 32,
   "metadata": {},
   "outputs": [
    {
     "name": "stdout",
     "output_type": "stream",
     "text": [
      "upper D\n",
      "lower i\n",
      "lower v\n",
      "lower e\n",
      "lower i\n",
      "lower n\n",
      "lower t\n",
      "lower o\n",
      "lower d\n",
      "lower a\n",
      "lower i\n",
      "lower l\n",
      "lower y\n",
      "upper P\n",
      "lower y\n",
      "lower t\n",
      "lower h\n",
      "lower o\n",
      "lower n\n",
      "lower c\n",
      "lower h\n",
      "lower a\n",
      "lower l\n",
      "lower l\n",
      "lower e\n",
      "lower n\n",
      "lower g\n",
      "lower e\n",
      "lower s\n",
      "upper .\n",
      "upper U\n",
      "upper P\n",
      "upper P\n",
      "upper E\n",
      "upper R\n",
      "lower a\n",
      "lower n\n",
      "lower d\n",
      "lower l\n",
      "lower o\n",
      "lower w\n",
      "lower e\n",
      "lower r\n",
      "lower c\n",
      "lower a\n",
      "lower s\n",
      "lower e\n"
     ]
    }
   ],
   "source": [
    "'Write a function that accepts a string and calculates the number of uppercase and lowercase letters in it'\n",
    "\n",
    "test = \"Dive into daily Python challenges. UPPER and lowercase\"\n",
    "\n",
    "for letter in test.replace(\" \", \"\"):\n",
    "    if letter == letter.lower() and letter.isalpha():\n",
    "        print(\"lower\", letter)\n",
    "\n",
    "    elif letter == letter.upper():\n",
    "        print(\"upper\", letter)"
   ]
  }
 ],
 "metadata": {
  "kernelspec": {
   "display_name": "your_project_name",
   "language": "python",
   "name": "python3"
  },
  "language_info": {
   "codemirror_mode": {
    "name": "ipython",
    "version": 3
   },
   "file_extension": ".py",
   "mimetype": "text/x-python",
   "name": "python",
   "nbconvert_exporter": "python",
   "pygments_lexer": "ipython3",
   "version": "3.6.13"
  }
 },
 "nbformat": 4,
 "nbformat_minor": 2
}
